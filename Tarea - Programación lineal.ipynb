{
 "cells": [
  {
   "cell_type": "markdown",
   "metadata": {},
   "source": [
    "Mariana Valenzuel Lafarga\n",
    "\n",
    "18 de febrero del 2024\n",
    "\n",
    "Ingenieria Financiera"
   ]
  },
  {
   "cell_type": "markdown",
   "metadata": {},
   "source": [
    "# Tarea - Programación lineal"
   ]
  },
  {
   "cell_type": "markdown",
   "metadata": {},
   "source": [
    "### Diseño de la Dieta Óptima\n",
    "\n",
    "Se quiere producir comida para gatos de la manera más barata, no obstante se debe también asegurar que se cumplan los datos requeridos de analisis nutricional. Por lo que se quiere variar la cantidad de cada ingrediente para cumplir con los estandares nutricionales. Los requisitos que se tienen es que en $100$ gramos, se deben tener **por lo menos** $8$ gramos de proteína y $6$ gramos de grasa. Así mismo, no se debe tener más de $2$ gramos de fibra y $0.4$ gramos de sal.  \n",
    "\n",
    "Los datos nutricionales se pueden obtener de la siguiente tabla:\n",
    "\n",
    "Ingrediente|Proteína|Grasa|Fibra|Sal\n",
    ":----|----|----|----|----\n",
    "Pollo|  10.0%|08.0%|00.1%|00.2%\n",
    "Carne|  20.0%|10.0%|00.5%|00.5%\n",
    "Cordero|15.0%|11.0%|00.5%|00.7%\n",
    "Arroz|  00.0%|01.0%|10.0%|00.2%\n",
    "Trigo|  04.0%|01.0%|15.0%|00.8%\n",
    "Gel|    00.0%|00.0%|00.0%|00.0%\n",
    "\n",
    "Los costos de cada producto son:\n",
    "\n",
    "Ingrediente|Costo por gramo\n",
    ":----|----\n",
    "Pollo|$\\$$0.013\n",
    "Carne|$\\$$0.008\n",
    "Cordero|$\\$$0.010\n",
    "Arroz|$\\$$0.002\n",
    "Trigo|$\\$$0.005\n",
    "Gel|$\\$$0.001    \n",
    "\n",
    "Lo que se busca optimizar en este caso es la cantidad de productos que se debe utilizar en la comida de gato, minimizando el costo total. Para simplificar la notación use las siguientes variables: \n",
    "\n",
    "+ $x_1:$ Gramos de pollo  \n",
    "+ $x_2:$ Gramos de carne  \n",
    "+ $x_3:$ Gramos de cordero  \n",
    "+ $x_4:$ Gramos de arroz  \n",
    "+ $x_5:$ Gramos de trigo  \n",
    "+ $x_6:$ Gramos de gel\n",
    "\n",
    "La tarea consiste en plantear el problemade programación lineal que permita satisfacer las necesidades alimenticias del gato al tiempo que minimice el costo total y resolverlo con `linprog`."
   ]
  },
  {
   "cell_type": "markdown",
   "metadata": {},
   "source": [
    "- Definir criterio de optimización\n",
    "\n",
    "Minimizar costos"
   ]
  },
  {
   "cell_type": "markdown",
   "metadata": {},
   "source": [
    "- Variables que puedo controlar\n",
    "- $x_1:$ Gramos de pollo  \n",
    "+ $x_2:$ Gramos de carne  \n",
    "+ $x_3:$ Gramos de cordero  \n",
    "+ $x_4:$ Gramos de arroz  \n",
    "+ $x_5:$ Gramos de trigo  \n",
    "+ $x_6:$ Gramos de gel"
   ]
  },
  {
   "cell_type": "markdown",
   "metadata": {},
   "source": [
    "- Función de costo\n",
    "$$C= 0.013 X_{1} + 0.008 X_{2} + 0.010 X_{3} + 0.002 X_{4} + 0.005 X_{5} + 0.001 X_{6}$$"
   ]
  },
  {
   "cell_type": "markdown",
   "metadata": {},
   "source": [
    "- Restricciones\n",
    "\n",
    "$$ 0.10 X_{1} + 0.20 X_{2} + 0.15 X_{3} + 0.04 X_{5} \\geq 8$$\n",
    "$$ 0.08 X_{1} + 0.1 X_{2} + 0.11 X_{3} + 0.01 X_{4} + 0.01 X_{5} \\geq 0$$\n",
    "$$ 0.001 X_{1}+ 0.005 X_{2} + 0.005 X_{3} + 0.1 X_{4} + 0.15 X_{5} \\leq 0$$\n",
    "$$ 0.002 X_{1} +0.005 X_{2} +0.007 X_{3}+ 0.002 X_{4} + 0.008 X_{5} \\leq 0$$\n",
    "$$X_{1} + X_{2} + X_{3} + X_{4} + X_{5} + X_{6} \\geq 100$$"
   ]
  },
  {
   "cell_type": "code",
   "execution_count": 6,
   "metadata": {},
   "outputs": [
    {
     "data": {
      "text/plain": [
       "           con: array([], dtype=float64)\n",
       " crossover_nit: 0\n",
       "         eqlin:  marginals: array([], dtype=float64)\n",
       "  residual: array([], dtype=float64)\n",
       "           fun: 0.52\n",
       "       ineqlin:  marginals: array([-0.   , -0.07 , -0.   , -0.   , -0.001])\n",
       "  residual: array([4. , 0. , 1.7, 0.1, 0. ])\n",
       "         lower:  marginals: array([0.0064, 0.    , 0.0013, 0.0003, 0.0033, 0.    ])\n",
       "  residual: array([ 0., 60.,  0.,  0.,  0., 40.])\n",
       "       message: 'Optimization terminated successfully. (HiGHS Status 7: Optimal)'\n",
       "           nit: 2\n",
       "         slack: array([4. , 0. , 1.7, 0.1, 0. ])\n",
       "        status: 0\n",
       "       success: True\n",
       "         upper:  marginals: array([0., 0., 0., 0., 0., 0.])\n",
       "  residual: array([inf, inf, inf, inf, inf, inf])\n",
       "             x: array([ 0., 60.,  0.,  0.,  0., 40.])"
      ]
     },
     "execution_count": 6,
     "metadata": {},
     "output_type": "execute_result"
    }
   ],
   "source": [
    "C= np.array([0.013,\n",
    "            0.008,\n",
    "            0.010,\n",
    "            0.002,\n",
    "            0.005,\n",
    "            0.001])\n",
    "Aub= np.array([\n",
    "    [-0.1,-0.2,-0.15,-0,-.4,-0],\n",
    "    [-0.08,-0.1,-0.11,-0.01,-0.01,-0],\n",
    "    [0.001,0.005,0.005,0.1,0.15,0],\n",
    "    [0.002,0.005,0.007,0.002,0.008,0],\n",
    "    [-1,-1,-1,-1,-1,-1]\n",
    "])\n",
    "bub= np.array([-8,\n",
    "              -6,\n",
    "              2,\n",
    "              0.4,\n",
    "              -100])\n",
    "\n",
    "opt.linprog(C,Aub,bub)"
   ]
  },
  {
   "cell_type": "markdown",
   "metadata": {},
   "source": [
    "Por cada 100 gramos se tiene que poner 60 gramos de carne y 40 gramos de gel para cumplir con las restricciones"
   ]
  },
  {
   "cell_type": "markdown",
   "metadata": {},
   "source": [
    "### Problema de distribución de energía eléctrica\n",
    "\n",
    "La Comisión Federal de Electricidad **(CFE)** dispone de cuatro plantas de generación para satisfacer la demanda diaria eléctrica en cuatro ciudades, Guadalajara, León y Morelia. Las plantas $1$, $2$ y $3$ pueden satisfacer $80$, $40$ y $60$ millones de KW al día respectivamente. Las necesidades de las ciudades de Guadalajara, León y Morelia son de $70$, $40$ y $70$ millones de Kw al día respectivamente. \n",
    "\n",
    "\n",
    "Los costos asociados al envío de suministro energético por cada millón de Kw entre cada planta y cada ciudad son los registrados en la siguiente tabla. \n",
    "\n",
    "-|Guadalajara|León|Morelia\n",
    ":----|----|----|----\n",
    "Planta 1|5|2|7\n",
    "Planta 2|3|6|6\n",
    "Planta 3|6|1|2\n",
    "\n",
    "Y por último, las restricciones del problema, van a estar dadas por las capacidades de oferta y demanda de cada planta (en millones de KW) y cada ciudad.\n",
    "\n",
    "Para simplificar la notación use las siguientes variables:\n",
    "\n",
    "+ $x_1$: Kw (en millones) distribuidos de la Planta 1 a Guadalajara\n",
    "+ $x_2$: Kw (en millones) distribuidos de la Planta 1 a León\n",
    "+ $x_3$: Kw (en millones) distribuidos de la Planta 1 a Morelia\n",
    "+ $x_4$: Kw (en millones) distribuidos de la Planta 2 a Guadalajara\n",
    "+ $x_5$: Kw (en millones) distribuidos de la Planta 2 a León\n",
    "+ $x_6$: Kw (en millones) distribuidos de la Planta 2 a Morelia\n",
    "+ $x_7$: Kw (en millones) distribuidos de la Planta 3 a Guadalajara\n",
    "+ $x_8$: Kw (en millones) distribuidos de la Planta 3 a León\n",
    "+ $x_9$: Kw (en millones) distribuidos de la Planta 3 a Morelia\n",
    "\n",
    "La tarea consiste en plantear el problema de programación lineal que permita satisfacer las necesidades de todas las ciudades al tiempo que minimice los costos asociados a la distribución y resolverlo con `linprog`."
   ]
  },
  {
   "cell_type": "markdown",
   "metadata": {},
   "source": [
    "- Definir criterio de optimización\n",
    "\n",
    "Minimizar costos de distribución"
   ]
  },
  {
   "cell_type": "markdown",
   "metadata": {},
   "source": [
    "- Variables que puedo controlar \n",
    "\n",
    "+ $x_1$: Kw (en millones) distribuidos de la Planta 1 a Guadalajara\n",
    "+ $x_2$: Kw (en millones) distribuidos de la Planta 1 a León\n",
    "+ $x_3$: Kw (en millones) distribuidos de la Planta 1 a Morelia\n",
    "+ $x_4$: Kw (en millones) distribuidos de la Planta 2 a Guadalajara\n",
    "+ $x_5$: Kw (en millones) distribuidos de la Planta 2 a León\n",
    "+ $x_6$: Kw (en millones) distribuidos de la Planta 2 a Morelia\n",
    "+ $x_7$: Kw (en millones) distribuidos de la Planta 3 a Guadalajara\n",
    "+ $x_8$: Kw (en millones) distribuidos de la Planta 3 a León\n",
    "+ $x_9$: Kw (en millones) distribuidos de la Planta 3 a Morelia"
   ]
  },
  {
   "cell_type": "markdown",
   "metadata": {},
   "source": [
    "- Función de costo\n",
    "$$ 5 X_{1}+ 2 X_{2} + 7 X_{3}+ 3 X_{4} + 6 X_{5} + 6 X_{6} + 6 X_{7} + X_{8} + 2 X_{9}$$"
   ]
  },
  {
   "cell_type": "markdown",
   "metadata": {},
   "source": [
    "- Restricciones\n",
    "$$ X_{1} + X_{2} + X_{3} \\leq 80$$\n",
    "$$ X_{4} + X_{5} + X_{6} \\leq 40$$\n",
    "$$ X_{7} + X_{8} + X_{9} \\leq 60$$\n",
    "$$ X_{1} + X_{4} + X_{7} = 70$$\n",
    "$$ X_{2} + X_{5} + X_{8} = 40$$\n",
    "$$ X_{4} + X_{6} + X_{9} =70$$"
   ]
  },
  {
   "cell_type": "code",
   "execution_count": 7,
   "metadata": {},
   "outputs": [
    {
     "data": {
      "text/plain": [
       "           con: array([0., 0., 0.])\n",
       " crossover_nit: 0\n",
       "         eqlin:  marginals: array([5., 2., 7.])\n",
       "  residual: array([0., 0., 0.])\n",
       "           fun: 540.0\n",
       "       ineqlin:  marginals: array([-0., -2., -5.])\n",
       "  residual: array([0., 0., 0.])\n",
       "         lower:  marginals: array([0., 0., 0., 0., 6., 1., 6., 4., 0.])\n",
       "  residual: array([30., 40., 10., 40.,  0.,  0.,  0.,  0., 60.])\n",
       "       message: 'Optimization terminated successfully. (HiGHS Status 7: Optimal)'\n",
       "           nit: 6\n",
       "         slack: array([0., 0., 0.])\n",
       "        status: 0\n",
       "       success: True\n",
       "         upper:  marginals: array([0., 0., 0., 0., 0., 0., 0., 0., 0.])\n",
       "  residual: array([inf, inf, inf, inf, inf, inf, inf, inf, inf])\n",
       "             x: array([30., 40., 10., 40.,  0.,  0.,  0.,  0., 60.])"
      ]
     },
     "execution_count": 7,
     "metadata": {},
     "output_type": "execute_result"
    }
   ],
   "source": [
    "D= np.array([5,\n",
    "            2,\n",
    "            7,\n",
    "            3,\n",
    "            6,\n",
    "            6,\n",
    "            6,\n",
    "            1,\n",
    "            2])\n",
    "Aub= np.array([\n",
    "    [1,1,1,0,0,0,0,0,0],\n",
    "    [0,0,0,1,1,1,0,0,0],\n",
    "    [0,0,0,0,0,0,1,1,1],\n",
    "])\n",
    "bub= np.array([80,\n",
    "              40,\n",
    "              60])\n",
    "Aeq= np.array([\n",
    "    [1,0,0,1,0,0,1,0,0],\n",
    "    [0,1,0,0,1,0,0,1,0],\n",
    "    [0,0,1,0,0,1,0,0,1]])\n",
    "beq= np.array([70,\n",
    "              40,\n",
    "              70])\n",
    "\n",
    "opt.linprog(D,Aub,bub,Aeq, beq)"
   ]
  },
  {
   "cell_type": "markdown",
   "metadata": {},
   "source": [
    "Para minimizar los costos de distribución se necesitan 30 millones de kw planta 1 a GDL, 40 a Leon y 10 a Morelia. De la planta 2 se mandarán 40 a GDL y de la planta 3 se mandarán 60 a Morelia."
   ]
  }
 ],
 "metadata": {
  "kernelspec": {
   "display_name": "Python 3 (ipykernel)",
   "language": "python",
   "name": "python3"
  },
  "language_info": {
   "codemirror_mode": {
    "name": "ipython",
    "version": 3
   },
   "file_extension": ".py",
   "mimetype": "text/x-python",
   "name": "python",
   "nbconvert_exporter": "python",
   "pygments_lexer": "ipython3",
   "version": "3.9.13"
  }
 },
 "nbformat": 4,
 "nbformat_minor": 2
}
