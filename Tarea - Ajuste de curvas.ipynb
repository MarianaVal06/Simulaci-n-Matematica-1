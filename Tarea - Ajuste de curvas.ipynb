{
 "cells": [
  {
   "cell_type": "markdown",
   "metadata": {},
   "source": [
    "Mariana Valenzuela Lafarga\n",
    "25 febrero de 2024"
   ]
  },
  {
   "cell_type": "markdown",
   "metadata": {},
   "source": [
    "# Tarea - Ajuste de curvas"
   ]
  },
  {
   "cell_type": "code",
   "execution_count": 1,
   "metadata": {},
   "outputs": [],
   "source": [
    "import numpy as np\n",
    "import pandas as pd\n",
    "import matplotlib.pyplot as plt"
   ]
  },
  {
   "cell_type": "markdown",
   "metadata": {},
   "source": [
    "---\n",
    "### Problema 1\n",
    "\n",
    "Los siguientes datos representan el costo en dólares de la electricidad según Western Electricity Coordinating Council desde el 2014 (y su pronóstico para el 2040)\n",
    "\n",
    "Tomado de:\n",
    "https://www.quandl.com/data/EIA/AEO_2016_REF_NO_CPP_PRCE_NA_COMM_NA_ELC_NA_WECCRKS_NCNTPKWH_A-Electricity-End-Use-Prices-Commercial-Western-Electricity-Coordinating-Council-Rockies-No-CPP-AEO2016"
   ]
  },
  {
   "cell_type": "code",
   "execution_count": 2,
   "metadata": {},
   "outputs": [
    {
     "data": {
      "text/plain": [
       "array([10.051101,  9.259127,  9.444813,  9.557723,  9.977324, 10.298326,\n",
       "       10.447217, 10.550506, 10.590784, 10.657418, 10.743085, 10.831965,\n",
       "       10.988435, 11.153055, 11.313326, 11.557165, 11.860136, 12.122511,\n",
       "       12.356448, 12.611391, 12.814569, 13.111372, 13.357134, 13.559012,\n",
       "       13.85861 , 14.135924, 14.436149])"
      ]
     },
     "execution_count": 2,
     "metadata": {},
     "output_type": "execute_result"
    }
   ],
   "source": [
    "import numpy as np\n",
    "# Datos extraidos de la página de quandl\n",
    "data = np.array([10.051101,  9.259127,  9.444813,  9.557723,  9.977324, 10.298326,\n",
    "       10.447217, 10.550506, 10.590784, 10.657418, 10.743085, 10.831965,\n",
    "       10.988435, 11.153055, 11.313326, 11.557165, 11.860136, 12.122511,\n",
    "       12.356448, 12.611391, 12.814569, 13.111372, 13.357134, 13.559012,\n",
    "       13.85861 , 14.135924, 14.436149])\n",
    "data"
   ]
  },
  {
   "cell_type": "markdown",
   "metadata": {},
   "source": [
    "1. Ajuste estos datos a polinomios de grado 1 hasta 3 (los datos en $x$ corresponden a los años de 2014 a 2040, sin embargo son valores muy grandes para elevarlos a una potencia, use una representación para estos años, por ejemplo $2014 \\rightarrow 0$ y $2040\\rightarrow 26$).\n",
    "\n",
    "2. Muestre las tres curvas ajustadas junto a los datos de los costos en un solo gráfico"
   ]
  },
  {
   "cell_type": "code",
   "execution_count": 3,
   "metadata": {},
   "outputs": [],
   "source": [
    "def scaler(variable):\n",
    "    variable= variable - min(variable)\n",
    "    variable= variable/max(variable)\n",
    "    return variable"
   ]
  },
  {
   "cell_type": "code",
   "execution_count": 4,
   "metadata": {},
   "outputs": [
    {
     "data": {
      "text/plain": [
       "array([0.15297868, 0.        , 0.03586734, 0.05767717, 0.13872782,\n",
       "       0.20073297, 0.22949294, 0.24944437, 0.25722452, 0.27009563,\n",
       "       0.28664317, 0.30381134, 0.33403528, 0.36583348, 0.39679163,\n",
       "       0.44389187, 0.50241413, 0.55309481, 0.59828237, 0.64752748,\n",
       "       0.68677359, 0.74410443, 0.79157612, 0.83057113, 0.88844185,\n",
       "       0.94200817, 1.        ])"
      ]
     },
     "execution_count": 4,
     "metadata": {},
     "output_type": "execute_result"
    }
   ],
   "source": [
    "data= scaler(data)\n",
    "data"
   ]
  },
  {
   "cell_type": "markdown",
   "metadata": {},
   "source": [
    "Polinomio grado 1\n",
    "$$ \\hat{y}{x}= \\beta_0 + \\beta_1 X=0$$"
   ]
  },
  {
   "cell_type": "code",
   "execution_count": 5,
   "metadata": {},
   "outputs": [],
   "source": [
    "m=len(data)\n",
    "xn1= data\n",
    "yn1=5*xn1 +1 +np.random.uniform(0,-.5,m)"
   ]
  },
  {
   "cell_type": "code",
   "execution_count": 6,
   "metadata": {},
   "outputs": [],
   "source": [
    "ones= np.ones([m,1])\n",
    "#Acomoda el xn en un vector de m renglones y 1 columna\n",
    "x_factor= np.reshape(xn1,[m,1])\n",
    "X= np.hstack((ones,x_factor))\n",
    "X\n",
    "y_vector= np.reshape(yn1,[m,1])"
   ]
  },
  {
   "cell_type": "code",
   "execution_count": 7,
   "metadata": {},
   "outputs": [],
   "source": [
    "def funcion_de_costo(beta, X, y):\n",
    "    beta= np.reshape(beta,[2,1])\n",
    "    y_pred= X@ beta \n",
    "    return ((y_pred- y).T @ (y_pred-y))[0][0]"
   ]
  },
  {
   "cell_type": "code",
   "execution_count": 8,
   "metadata": {},
   "outputs": [
    {
     "data": {
      "text/plain": [
       "      fun: 0.5101773330323822\n",
       " hess_inv: array([[ 0.06236607, -0.09941886],\n",
       "       [-0.09941886,  0.22541986]])\n",
       "      jac: array([0.00000000e+00, 2.98023224e-08])\n",
       "  message: 'Optimization terminated successfully.'\n",
       "     nfev: 18\n",
       "      nit: 4\n",
       "     njev: 6\n",
       "   status: 0\n",
       "  success: True\n",
       "        x: array([0.74692949, 5.0225669 ])"
      ]
     },
     "execution_count": 8,
     "metadata": {},
     "output_type": "execute_result"
    }
   ],
   "source": [
    "import scipy.optimize as opt\n",
    "beta= [1,2]\n",
    "opt.minimize(funcion_de_costo, beta, args=(X, y_vector))"
   ]
  },
  {
   "cell_type": "markdown",
   "metadata": {},
   "source": [
    "Polinomio grado 2\n",
    "$$ \\hat{y}{x}= \\beta_0 + \\beta_1 X + \\beta_2 X^2=0$$"
   ]
  },
  {
   "cell_type": "code",
   "execution_count": 9,
   "metadata": {},
   "outputs": [],
   "source": [
    "xn2= data\n",
    "yn2=7*xn2**2 + 2*xn2 +1 +np.random.uniform(0,1,m)"
   ]
  },
  {
   "cell_type": "code",
   "execution_count": 10,
   "metadata": {},
   "outputs": [],
   "source": [
    "ones= np.ones([m,1])\n",
    "#Acomoda el xn en un vector de m renglones y 1 columna\n",
    "x_factor= np.reshape(xn2,[m,1])\n",
    "x2_factor= np.reshape(xn2**2, [m,1])\n",
    "X= np.hstack((ones,x_factor,x2_factor))\n",
    "X\n",
    "y_vector= np.reshape(yn2,[m,1])"
   ]
  },
  {
   "cell_type": "code",
   "execution_count": 11,
   "metadata": {},
   "outputs": [],
   "source": [
    "def funcion_de_costo(beta, X, y):\n",
    "    beta= np.reshape(beta,[3,1])\n",
    "    y_pred= X@ beta \n",
    "    return ((y_pred- y).T @ (y_pred-y))[0][0]"
   ]
  },
  {
   "cell_type": "code",
   "execution_count": 12,
   "metadata": {},
   "outputs": [
    {
     "data": {
      "text/plain": [
       "      fun: 2.2409124811455854\n",
       " hess_inv: array([[ 0.14338965, -0.60258492,  0.50820829],\n",
       "       [-0.60258492,  3.34312557, -3.14917397],\n",
       "       [ 0.50820829, -3.14917397,  3.18095795]])\n",
       "      jac: array([3.57627869e-07, 5.96046448e-08, 0.00000000e+00])\n",
       "  message: 'Optimization terminated successfully.'\n",
       "     nfev: 52\n",
       "      nit: 11\n",
       "     njev: 13\n",
       "   status: 0\n",
       "  success: True\n",
       "        x: array([1.42243562, 2.76579774, 6.26146597])"
      ]
     },
     "execution_count": 12,
     "metadata": {},
     "output_type": "execute_result"
    }
   ],
   "source": [
    "beta= [1,2,3]\n",
    "opt.minimize(funcion_de_costo, beta, args=(X, y_vector))"
   ]
  },
  {
   "cell_type": "markdown",
   "metadata": {},
   "source": [
    "Polinomio grado 3\n",
    "$$ \\hat{y}{x}= \\beta_0 + \\beta_1 X + \\beta_2 X^2 + \\beta_3 X^3=0$$"
   ]
  },
  {
   "cell_type": "code",
   "execution_count": 13,
   "metadata": {},
   "outputs": [],
   "source": [
    "xn3= data\n",
    "yn3=8*xn3**3+ 2*xn3**2 + 2*xn3 +1 +np.random.uniform(0,1,m)"
   ]
  },
  {
   "cell_type": "code",
   "execution_count": 14,
   "metadata": {},
   "outputs": [],
   "source": [
    "ones= np.ones([m,1])\n",
    "#Acomoda el xn en un vector de m renglones y 1 columna\n",
    "x_factor= np.reshape(xn3,[m,1])\n",
    "x2_factor= np.reshape(xn3**2, [m,1])\n",
    "x3_factor= np.reshape(xn3**3,[m,1])\n",
    "X= np.hstack((ones,x_factor,x2_factor,x3_factor))\n",
    "X\n",
    "y_vector= np.reshape(yn3,[m,1])"
   ]
  },
  {
   "cell_type": "code",
   "execution_count": 15,
   "metadata": {},
   "outputs": [],
   "source": [
    "def funcion_de_costo(beta, X, y):\n",
    "    beta= np.reshape(beta,[4,1])\n",
    "    y_pred= X@ beta \n",
    "    return ((y_pred- y).T @ (y_pred-y))[0][0]"
   ]
  },
  {
   "cell_type": "code",
   "execution_count": 16,
   "metadata": {},
   "outputs": [
    {
     "data": {
      "text/plain": [
       "      fun: 1.801509755657427\n",
       " hess_inv: array([[  0.20959421,  -1.5036041 ,   2.95776009,  -1.70890191],\n",
       "       [ -1.5036041 ,  15.04083263, -34.34121096,  21.52831062],\n",
       "       [  2.95776009, -34.34121096,  85.6843388 , -56.68249052],\n",
       "       [ -1.70890191,  21.52831062, -56.68249052,  38.84082456]])\n",
       "      jac: array([3.27825546e-07, 2.53319740e-07, 5.96046448e-08, 1.19209290e-07])\n",
       "  message: 'Optimization terminated successfully.'\n",
       "     nfev: 100\n",
       "      nit: 18\n",
       "     njev: 20\n",
       "   status: 0\n",
       "  success: True\n",
       "        x: array([ 1.5064201 ,  3.45032843, -1.32303038,  9.71495233])"
      ]
     },
     "execution_count": 16,
     "metadata": {},
     "output_type": "execute_result"
    }
   ],
   "source": [
    "beta= [1,2,3,4]\n",
    "opt.minimize(funcion_de_costo, beta, args=(X, y_vector))"
   ]
  },
  {
   "cell_type": "code",
   "execution_count": 17,
   "metadata": {},
   "outputs": [
    {
     "data": {
      "image/png": "[encoded data removed]",
      "text/plain": [
       "<Figure size 640x480 with 1 Axes>"
      ]
     },
     "metadata": {},
     "output_type": "display_data"
    }
   ],
   "source": [
    "plt.figure()\n",
    "plt. scatter(xn1,yn1)\n",
    "plt. scatter(xn2,yn2)\n",
    "plt. scatter(xn3,yn3)\n",
    "plt.plot(xn1, 0.79829817 + 4.91426347*xn1)\n",
    "plt.plot(xn2, 1.74850844 + 0.96953758*xn2+ 7.8514808*xn2**2)\n",
    "plt.plot(xn3, 1.26392646 + 3.0406009*xn3+ 2.48487525*xn3**2+ 6.40451594* xn3**3)\n",
    "plt.grid()"
   ]
  },
  {
   "cell_type": "markdown",
   "metadata": {},
   "source": [
    "---"
   ]
  },
  {
   "cell_type": "markdown",
   "metadata": {},
   "source": [
    "\n",
    "### Problema 2\n",
    "\n",
    "El archivo `population_data.csv` contiene información histórica anual de México relativa a la población, nacimientos y muertes desde el año 1950 hasta el año 2015. La primer columna corresponde a los años, la segunda a la población, la tercera a los nacimientos y la última a los decesos.\n",
    "\n",
    "Tomado de: https://en.wikipedia.org/wiki/Demographics_of_Mexico.\n",
    "\n",
    "Importe estos datos usando la función `read_csv` del paquete `pandas`\n",
    "\n",
    "1. Usando los años como variable independiente $x$ y la población como variable dependiente $y$, ajustar polinomios de grado 1 hasta grado 3.\n",
    "\n",
    "    * Mostrar en un solo gráfico los datos de población contra los años, y los polinomios ajustados.\n",
    "\n",
    "    * Graficar el error cuadrático acumulado contra el número de términos.\n",
    "\n",
    "2. Repetir el punto 1 usando los nacimientos como variable dependiente $y$. Grafique las curvas ajustadas junto con los datos de nacimientos. Vea en un gráfico el error acumulado."
   ]
  },
  {
   "cell_type": "markdown",
   "metadata": {},
   "source": [
    "---"
   ]
  },
  {
   "cell_type": "code",
   "execution_count": 18,
   "metadata": {},
   "outputs": [
    {
     "data": {
      "text/html": [
       "<div>\n",
       "<style scoped>\n",
       "    .dataframe tbody tr th:only-of-type {\n",
       "        vertical-align: middle;\n",
       "    }\n",
       "\n",
       "    .dataframe tbody tr th {\n",
       "        vertical-align: top;\n",
       "    }\n",
       "\n",
       "    .dataframe thead th {\n",
       "        text-align: right;\n",
       "    }\n",
       "</style>\n",
       "<table border=\"1\" class=\"dataframe\">\n",
       "  <thead>\n",
       "    <tr style=\"text-align: right;\">\n",
       "      <th></th>\n",
       "      <th>Year</th>\n",
       "      <th>Poblacion</th>\n",
       "      <th>Nacimientos</th>\n",
       "      <th>Decesos</th>\n",
       "    </tr>\n",
       "  </thead>\n",
       "  <tbody>\n",
       "    <tr>\n",
       "      <th>0</th>\n",
       "      <td>1950</td>\n",
       "      <td>28296</td>\n",
       "      <td>1174947</td>\n",
       "      <td>418430</td>\n",
       "    </tr>\n",
       "    <tr>\n",
       "      <th>1</th>\n",
       "      <td>1951</td>\n",
       "      <td>29110</td>\n",
       "      <td>1183788</td>\n",
       "      <td>458238</td>\n",
       "    </tr>\n",
       "    <tr>\n",
       "      <th>2</th>\n",
       "      <td>1952</td>\n",
       "      <td>29980</td>\n",
       "      <td>1195209</td>\n",
       "      <td>408823</td>\n",
       "    </tr>\n",
       "    <tr>\n",
       "      <th>3</th>\n",
       "      <td>1953</td>\n",
       "      <td>30904</td>\n",
       "      <td>1261775</td>\n",
       "      <td>446127</td>\n",
       "    </tr>\n",
       "    <tr>\n",
       "      <th>4</th>\n",
       "      <td>1954</td>\n",
       "      <td>31880</td>\n",
       "      <td>1339837</td>\n",
       "      <td>378752</td>\n",
       "    </tr>\n",
       "    <tr>\n",
       "      <th>...</th>\n",
       "      <td>...</td>\n",
       "      <td>...</td>\n",
       "      <td>...</td>\n",
       "      <td>...</td>\n",
       "    </tr>\n",
       "    <tr>\n",
       "      <th>61</th>\n",
       "      <td>2011</td>\n",
       "      <td>115683</td>\n",
       "      <td>2586287</td>\n",
       "      <td>590693</td>\n",
       "    </tr>\n",
       "    <tr>\n",
       "      <th>62</th>\n",
       "      <td>2012</td>\n",
       "      <td>117054</td>\n",
       "      <td>2498880</td>\n",
       "      <td>602354</td>\n",
       "    </tr>\n",
       "    <tr>\n",
       "      <th>63</th>\n",
       "      <td>2013</td>\n",
       "      <td>118395</td>\n",
       "      <td>2478889</td>\n",
       "      <td>623599</td>\n",
       "    </tr>\n",
       "    <tr>\n",
       "      <th>64</th>\n",
       "      <td>2014</td>\n",
       "      <td>119713</td>\n",
       "      <td>2463420</td>\n",
       "      <td>633641</td>\n",
       "    </tr>\n",
       "    <tr>\n",
       "      <th>65</th>\n",
       "      <td>2015</td>\n",
       "      <td>121005</td>\n",
       "      <td>2353596</td>\n",
       "      <td>655694</td>\n",
       "    </tr>\n",
       "  </tbody>\n",
       "</table>\n",
       "<p>66 rows × 4 columns</p>\n",
       "</div>"
      ],
      "text/plain": [
       "    Year  Poblacion  Nacimientos  Decesos\n",
       "0   1950      28296      1174947   418430\n",
       "1   1951      29110      1183788   458238\n",
       "2   1952      29980      1195209   408823\n",
       "3   1953      30904      1261775   446127\n",
       "4   1954      31880      1339837   378752\n",
       "..   ...        ...          ...      ...\n",
       "61  2011     115683      2586287   590693\n",
       "62  2012     117054      2498880   602354\n",
       "63  2013     118395      2478889   623599\n",
       "64  2014     119713      2463420   633641\n",
       "65  2015     121005      2353596   655694\n",
       "\n",
       "[66 rows x 4 columns]"
      ]
     },
     "execution_count": 18,
     "metadata": {},
     "output_type": "execute_result"
    }
   ],
   "source": [
    "import pandas as pd\n",
    "\n",
    "data= pd.read_csv(\"population_data.csv\")\n",
    "data"
   ]
  },
  {
   "cell_type": "code",
   "execution_count": 19,
   "metadata": {},
   "outputs": [],
   "source": [
    "m1=len(data)\n",
    "xn1= data[\"Year\"]\n",
    "yn1= data[\"Poblacion\"]"
   ]
  },
  {
   "cell_type": "code",
   "execution_count": 20,
   "metadata": {},
   "outputs": [],
   "source": [
    "def funcion_de_costo(beta, X, y):\n",
    "    r,c= X.shape\n",
    "    beta= np.reshape(beta,[c,1])\n",
    "    y_pred= X @ beta\n",
    "    error= y_pred-y\n",
    "    return (error.T @ error)[0][0]"
   ]
  },
  {
   "cell_type": "code",
   "execution_count": 21,
   "metadata": {},
   "outputs": [],
   "source": [
    "ones= np.ones([m1,1])\n",
    "#Acomoda el xn en un vector de m renglones y 1 columna\n",
    "x_factor= np.reshape(xn1.values,[m1,1])\n",
    "X= np.hstack((ones,x_factor))\n",
    "y_vector= np.reshape(yn1.values,[m1,1])"
   ]
  },
  {
   "cell_type": "code",
   "execution_count": 22,
   "metadata": {},
   "outputs": [
    {
     "data": {
      "text/plain": [
       "      fun: 212137169.54438835\n",
       " hess_inv: array([[ 5.37339352e+01, -2.71017285e-02],\n",
       "       [-2.71017285e-02,  1.36711439e-05]])\n",
       "      jac: array([   0., -160.])\n",
       "  message: 'Desired error not necessarily achieved due to precision loss.'\n",
       "     nfev: 182\n",
       "      nit: 12\n",
       "     njev: 57\n",
       "   status: 2\n",
       "  success: False\n",
       "        x: array([-2.98661024e+06,  1.54397346e+03])"
      ]
     },
     "execution_count": 22,
     "metadata": {},
     "output_type": "execute_result"
    }
   ],
   "source": [
    "beta= [1,1]\n",
    "opt.minimize(funcion_de_costo, beta, args=(X, y_vector))"
   ]
  },
  {
   "cell_type": "code",
   "execution_count": 23,
   "metadata": {},
   "outputs": [
    {
     "data": {
      "text/plain": [
       "402559828417.0"
      ]
     },
     "execution_count": 23,
     "metadata": {},
     "output_type": "execute_result"
    }
   ],
   "source": [
    "error1= funcion_de_costo(beta,X,y_vector)\n",
    "error1"
   ]
  },
  {
   "cell_type": "code",
   "execution_count": 24,
   "metadata": {},
   "outputs": [],
   "source": [
    "ones= np.ones([m1,1])\n",
    "#Acomoda el xn en un vector de m renglones y 1 columna\n",
    "x_factor= np.reshape(xn1.values,[m1,1])\n",
    "x2_factor= np.reshape(xn1.values**2,[m1,1])\n",
    "X= np.hstack((ones,x_factor,x2_factor))\n",
    "y_vector= np.reshape(yn1.values,[m1,1])"
   ]
  },
  {
   "cell_type": "code",
   "execution_count": 25,
   "metadata": {
    "scrolled": false
   },
   "outputs": [
    {
     "data": {
      "text/plain": [
       "      fun: 212001961.61776266\n",
       " hess_inv: array([[ 1.00285312e+00, -8.24327726e-04,  1.63774882e-07],\n",
       "       [-8.24327726e-04,  2.15857608e-05, -1.06786197e-08],\n",
       "       [ 1.63774882e-07, -1.06786197e-08,  5.34456805e-12]])\n",
       "      jac: array([-1.2200000e+02, -2.5277000e+05, -4.9857909e+08])\n",
       "  message: 'Desired error not necessarily achieved due to precision loss.'\n",
       "     nfev: 212\n",
       "      nit: 5\n",
       "     njev: 50\n",
       "   status: 2\n",
       "  success: False\n",
       "        x: array([ 1.78221409e+05, -1.64890070e+03,  8.05216698e-01])"
      ]
     },
     "execution_count": 25,
     "metadata": {},
     "output_type": "execute_result"
    }
   ],
   "source": [
    "beta= [1,1,1]\n",
    "opt.minimize(funcion_de_costo, beta, args=(X, y_vector))"
   ]
  },
  {
   "cell_type": "code",
   "execution_count": 26,
   "metadata": {
    "scrolled": true
   },
   "outputs": [
    {
     "data": {
      "text/plain": [
       "982666418318044.0"
      ]
     },
     "execution_count": 26,
     "metadata": {},
     "output_type": "execute_result"
    }
   ],
   "source": [
    "error2= funcion_de_costo(beta,X,y_vector)\n",
    "error2"
   ]
  },
  {
   "cell_type": "code",
   "execution_count": 27,
   "metadata": {},
   "outputs": [],
   "source": [
    "ones= np.ones([m1,1])\n",
    "#Acomoda el xn en un vector de m renglones y 1 columna\n",
    "x_factor= np.reshape(xn1.values,[m1,1])\n",
    "x2_factor= np.reshape(xn1.values**2,[m1,1])\n",
    "x3_factor= np.reshape(xn1.values**3,[m1,1])\n",
    "X= np.hstack((ones,x_factor,x2_factor,x3_factor))\n",
    "y_vector= np.reshape(yn1.values,[m1,1])"
   ]
  },
  {
   "cell_type": "code",
   "execution_count": 28,
   "metadata": {},
   "outputs": [
    {
     "data": {
      "text/plain": [
       "      fun: 38799600368.412476\n",
       " hess_inv: array([[ 9.16712071e-11, -1.68482633e-10,  2.25933066e-11,\n",
       "        -1.13558695e-14],\n",
       "       [-1.68482654e-10,  5.77112902e-09, -4.25436806e-11,\n",
       "         1.98574812e-14],\n",
       "       [ 2.25933066e-11, -4.25436754e-11,  5.70467455e-12,\n",
       "        -2.86728808e-15],\n",
       "       [-1.13558695e-14,  1.98574791e-14, -2.86728808e-15,\n",
       "         1.44164347e-18]])\n",
       "      jac: array([-1.07520000e+04, -3.79054080e+07, -1.05996171e+11, -2.09600717e+14])\n",
       "  message: 'Desired error not necessarily achieved due to precision loss.'\n",
       "     nfev: 321\n",
       "      nit: 12\n",
       "     njev: 62\n",
       "   status: 2\n",
       "  success: False\n",
       "        x: array([ 9.28002466e+07,  4.96750879e+02, -7.19004606e+01,  2.42374044e-02])"
      ]
     },
     "execution_count": 28,
     "metadata": {},
     "output_type": "execute_result"
    }
   ],
   "source": [
    "beta= [1,1,1,1]\n",
    "opt.minimize(funcion_de_costo, beta, args=(X, y_vector))"
   ]
  },
  {
   "cell_type": "code",
   "execution_count": 29,
   "metadata": {},
   "outputs": [
    {
     "data": {
      "text/plain": [
       "<matplotlib.legend.Legend at 0x254cc8f9fd0>"
      ]
     },
     "execution_count": 29,
     "metadata": {},
     "output_type": "execute_result"
    },
    {
     "data": {
      "image/png": "[encoded data removed]",
      "text/plain": [
       "<Figure size 640x480 with 1 Axes>"
      ]
     },
     "metadata": {},
     "output_type": "display_data"
    }
   ],
   "source": [
    "plt.figure()\n",
    "plt. scatter(xn1,yn1)\n",
    "plt.plot(xn1, -2986610.24 + 1543.97346*xn1, label=\"Polinomio1\")\n",
    "plt.plot(xn1, 178221.409 - 1648.9007*xn1 + 0.805216698* xn1**2, label= \"Polinomio2\")\n",
    "plt.plot(xn1, 92800246.6 + 496.760879*xn1 - 71.9004606* xn1**2+ 0.0242374044* xn1**3, label= \"Polinomio3\")\n",
    "plt.grid()\n",
    "plt.legend()"
   ]
  },
  {
   "cell_type": "code",
   "execution_count": 30,
   "metadata": {
    "scrolled": true
   },
   "outputs": [
    {
     "data": {
      "text/plain": [
       "4.0165575541993195e+21"
      ]
     },
     "execution_count": 30,
     "metadata": {},
     "output_type": "execute_result"
    }
   ],
   "source": [
    "error3= funcion_de_costo(beta,X,y_vector)\n",
    "error3"
   ]
  },
  {
   "cell_type": "code",
   "execution_count": 31,
   "metadata": {},
   "outputs": [
    {
     "data": {
      "text/plain": [
       "array([0.00000000e+00, 2.44553662e-07, 1.00000000e+00])"
      ]
     },
     "execution_count": 31,
     "metadata": {},
     "output_type": "execute_result"
    }
   ],
   "source": [
    "errores= np.array([error1,error2,error3])\n",
    "errores= scaler(errores)\n",
    "errores"
   ]
  },
  {
   "cell_type": "code",
   "execution_count": 32,
   "metadata": {},
   "outputs": [
    {
     "data": {
      "image/png": "[encoded data removed]",
      "text/plain": [
       "<Figure size 640x480 with 1 Axes>"
      ]
     },
     "metadata": {},
     "output_type": "display_data"
    }
   ],
   "source": [
    "categorias = ['Polinomio 1', 'Polinomio 2', 'Polinomio 3']\n",
    "valores = [0,0.00000015553068,1]\n",
    "\n",
    "# Crear la gráfica de barras\n",
    "plt.bar(categorias, valores)\n",
    "\n",
    "# Personalizar la gráfica\n",
    "plt.title('Gráfica de Barras')\n",
    "plt.xlabel('Categorías')\n",
    "plt.ylabel('Valores')\n",
    "\n",
    "# Mostrar la gráfica\n",
    "plt.show()"
   ]
  },
  {
   "cell_type": "markdown",
   "metadata": {},
   "source": [
    "Ahora con nacimientos "
   ]
  },
  {
   "cell_type": "code",
   "execution_count": 33,
   "metadata": {},
   "outputs": [],
   "source": [
    "xn2= data[\"Year\"]\n",
    "yn2= data[\"Nacimientos\"]"
   ]
  },
  {
   "cell_type": "code",
   "execution_count": 34,
   "metadata": {},
   "outputs": [],
   "source": [
    "ones= np.ones([m1,1])\n",
    "#Acomoda el xn en un vector de m renglones y 1 columna\n",
    "x_factor= np.reshape(xn2.values,[m1,1])\n",
    "X= np.hstack((ones,x_factor))\n",
    "y_vector= np.reshape(yn2.values,[m1,1])"
   ]
  },
  {
   "cell_type": "code",
   "execution_count": 35,
   "metadata": {},
   "outputs": [
    {
     "data": {
      "text/plain": [
       "      fun: 4754604568934.098\n",
       " hess_inv: array([[ 7.59762927e-02, -3.82662879e-05],\n",
       "       [-3.82662879e-05,  2.11130341e-08]])\n",
       "      jac: array([       0., 37748736.])\n",
       "  message: 'Desired error not necessarily achieved due to precision loss.'\n",
       "     nfev: 228\n",
       "      nit: 20\n",
       "     njev: 72\n",
       "   status: 2\n",
       "  success: False\n",
       "        x: array([-3.96359286e+07,  2.11417150e+04])"
      ]
     },
     "execution_count": 35,
     "metadata": {},
     "output_type": "execute_result"
    }
   ],
   "source": [
    "beta= [1,1]\n",
    "opt.minimize(funcion_de_costo, beta, args=(X, y_vector))"
   ]
  },
  {
   "cell_type": "code",
   "execution_count": 36,
   "metadata": {},
   "outputs": [
    {
     "data": {
      "text/plain": [
       "357968513940692.0"
      ]
     },
     "execution_count": 36,
     "metadata": {},
     "output_type": "execute_result"
    }
   ],
   "source": [
    "error1= funcion_de_costo(beta,X,y_vector)\n",
    "error1"
   ]
  },
  {
   "cell_type": "code",
   "execution_count": 37,
   "metadata": {},
   "outputs": [],
   "source": [
    "ones= np.ones([m1,1])\n",
    "#Acomoda el xn en un vector de m renglones y 1 columna\n",
    "x_factor= np.reshape(xn2.values,[m1,1])\n",
    "x2_factor= np.reshape(xn2.values**2,[m1,1])\n",
    "X= np.hstack((ones,x_factor,x2_factor))\n",
    "y_vector= np.reshape(yn2.values,[m1,1])"
   ]
  },
  {
   "cell_type": "code",
   "execution_count": 38,
   "metadata": {
    "scrolled": true
   },
   "outputs": [
    {
     "data": {
      "text/plain": [
       "      fun: 4852464992890.201\n",
       " hess_inv: array([[ 1.22701116e-04, -3.10160696e-05,  1.56050183e-08],\n",
       "       [-3.10160696e-05,  2.78221205e-05, -1.40190066e-08],\n",
       "       [ 1.56050183e-08, -1.40190066e-08,  7.06439217e-12]])\n",
       "      jac: array([0.00000000e+00, 1.31072000e+05, 2.58736128e+08])\n",
       "  message: 'Desired error not necessarily achieved due to precision loss.'\n",
       "     nfev: 152\n",
       "      nit: 6\n",
       "     njev: 35\n",
       "   status: 2\n",
       "  success: False\n",
       "        x: array([-9.09046845e+03, -1.95583050e+04,  1.04462304e+01])"
      ]
     },
     "execution_count": 38,
     "metadata": {},
     "output_type": "execute_result"
    }
   ],
   "source": [
    "beta= [1,1,1]\n",
    "opt.minimize(funcion_de_costo, beta, args=(X, y_vector))"
   ]
  },
  {
   "cell_type": "code",
   "execution_count": 39,
   "metadata": {},
   "outputs": [
    {
     "data": {
      "text/plain": [
       "193387602021339.0"
      ]
     },
     "execution_count": 39,
     "metadata": {},
     "output_type": "execute_result"
    }
   ],
   "source": [
    "error2= funcion_de_costo(beta,X,y_vector)\n",
    "error2"
   ]
  },
  {
   "cell_type": "code",
   "execution_count": 40,
   "metadata": {},
   "outputs": [],
   "source": [
    "ones= np.ones([m1,1])\n",
    "#Acomoda el xn en un vector de m renglones y 1 columna\n",
    "x_factor= np.reshape(xn2.values,[m1,1])\n",
    "x2_factor= np.reshape(xn2.values**2,[m1,1])\n",
    "x3_factor= np.reshape(xn2.values**3,[m1,1])\n",
    "X= np.hstack((ones,x_factor,x2_factor,x3_factor))\n",
    "y_vector= np.reshape(yn2.values,[m1,1])"
   ]
  },
  {
   "cell_type": "code",
   "execution_count": 41,
   "metadata": {
    "scrolled": true
   },
   "outputs": [
    {
     "data": {
      "text/plain": [
       "      fun: 10681562827413.422\n",
       " hess_inv: array([[ 2.17691817e-05, -1.16246140e-09, -2.86146197e-09,\n",
       "         1.44918984e-12],\n",
       "       [-1.16246237e-09,  9.08289179e-13,  2.23120012e-12,\n",
       "        -1.12490868e-15],\n",
       "       [-2.86146435e-09,  2.23120012e-12,  5.49219191e-12,\n",
       "        -2.76900869e-15],\n",
       "       [ 1.44919103e-12, -1.12490868e-15, -2.76900869e-15,\n",
       "         1.39618126e-18]])\n",
       "      jac: array([0.00000000e+00, 2.93601280e+07, 1.13469030e+09, 2.30499418e+12])\n",
       "  message: 'Desired error not necessarily achieved due to precision loss.'\n",
       "     nfev: 417\n",
       "      nit: 11\n",
       "     njev: 81\n",
       "   status: 2\n",
       "  success: False\n",
       "        x: array([ 7.61786408e+05,  8.08972125e+05, -8.25752302e+02,  2.10865988e-01])"
      ]
     },
     "execution_count": 41,
     "metadata": {},
     "output_type": "execute_result"
    }
   ],
   "source": [
    "beta= [1,1,1,1]\n",
    "opt.minimize(funcion_de_costo, beta, args=(X, y_vector))"
   ]
  },
  {
   "cell_type": "code",
   "execution_count": 42,
   "metadata": {},
   "outputs": [
    {
     "data": {
      "text/plain": [
       "4.0142789221705486e+21"
      ]
     },
     "execution_count": 42,
     "metadata": {},
     "output_type": "execute_result"
    }
   ],
   "source": [
    "error3= funcion_de_costo(beta,X,y_vector)\n",
    "error3"
   ]
  },
  {
   "cell_type": "code",
   "execution_count": 43,
   "metadata": {},
   "outputs": [
    {
     "data": {
      "text/plain": [
       "<matplotlib.legend.Legend at 0x254ccb00bb0>"
      ]
     },
     "execution_count": 43,
     "metadata": {},
     "output_type": "execute_result"
    },
    {
     "data": {
      "image/png": "[encoded data removed]",
      "text/plain": [
       "<Figure size 640x480 with 1 Axes>"
      ]
     },
     "metadata": {},
     "output_type": "display_data"
    }
   ],
   "source": [
    "plt.figure()\n",
    "plt. scatter(xn2,yn2)\n",
    "plt.plot(xn2, -39635928.6 + 21141.7150*xn2, label=\"Polinomio1\")\n",
    "plt.plot(xn2, -9090.46845 -19558.3050*xn2 +  10.4462304* xn2**2, label= \"Polinomio2\")\n",
    "plt.plot(xn2, 761786.408 + 808972.125*xn2 -825.752302* xn2**2+ .210865988* xn2**3, label= \"Polinomio3\")\n",
    "plt.grid()\n",
    "plt.legend()"
   ]
  },
  {
   "cell_type": "code",
   "execution_count": 44,
   "metadata": {},
   "outputs": [
    {
     "data": {
      "image/png": "[encoded data removed]",
      "text/plain": [
       "<Figure size 640x480 with 1 Axes>"
      ]
     },
     "metadata": {},
     "output_type": "display_data"
    }
   ],
   "source": [
    "categorias = ['Polinomio 1', 'Polinomio 2', 'Polinomio 3']\n",
    "valores = [error1,error2,error3]\n",
    "\n",
    "# Crear la gráfica de barras\n",
    "plt.bar(categorias, valores)\n",
    "\n",
    "# Personalizar la gráfica\n",
    "plt.title('Gráfica de Barras')\n",
    "plt.xlabel('Categorías')\n",
    "plt.ylabel('Valores')\n",
    "\n",
    "# Mostrar la gráfica\n",
    "plt.show()"
   ]
  }
 ],
 "metadata": {
  "kernelspec": {
   "display_name": "Python 3 (ipykernel)",
   "language": "python",
   "name": "python3"
  },
  "language_info": {
   "codemirror_mode": {
    "name": "ipython",
    "version": 3
   },
   "file_extension": ".py",
   "mimetype": "text/x-python",
   "name": "python",
   "nbconvert_exporter": "python",
   "pygments_lexer": "ipython3",
   "version": "3.9.13"
  }
 },
 "nbformat": 4,
 "nbformat_minor": 2
}
